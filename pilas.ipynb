{
  "nbformat": 4,
  "nbformat_minor": 0,
  "metadata": {
    "colab": {
      "name": "pilas.ipynb",
      "provenance": []
    },
    "kernelspec": {
      "name": "python3",
      "display_name": "Python 3"
    },
    "language_info": {
      "name": "python"
    }
  },
  "cells": [
    {
      "cell_type": "code",
      "metadata": {
        "id": "RqKndRuoC5cz"
      },
      "source": [
        "class StackADT:\n",
        "    def __init__( self ):\n",
        "        self.__data = list()\n",
        "\n",
        "    #regresa truesi la pila esta vacía\n",
        "    def is_empty( self ):\n",
        "        return len( self.__data) == 0 \n",
        "    \n",
        "    def get_length( self ):\n",
        "        return len( self.__data)\n",
        "    \n",
        "    def pop( self ):\n",
        "        if self.is_empty():\n",
        "            print(\"Pila vacia, nada que sacar\")\n",
        "        else:\n",
        "            return self.__data.pop()\n",
        "\n",
        "    def peek( self ):\n",
        "        if self.is_empty():\n",
        "            print(\"Pila vacia, nada que sacar\")\n",
        "        else:\n",
        "            return self.__data[ -1 ]\n",
        "    \n",
        "    def push( self , value ):\n",
        "        self.__data.append(value)\n",
        "    \n",
        "    def to_string( self ):\n",
        "        for item in self.__data[::-1]:\n",
        "            print(f\" | {item} | \")"
      ],
      "execution_count": 3,
      "outputs": []
    },
    {
      "cell_type": "code",
      "metadata": {
        "colab": {
          "base_uri": "https://localhost:8080/"
        },
        "id": "S_MjjJLRDAOR",
        "outputId": "f30c0723-c502-48b6-d201-1cfa0b3988d2"
      },
      "source": [
        "pila = StackADT()\n",
        "print(\"Esta vacia? =\" , pila.is_empty() )\n",
        "print(\"# elementos:\", pila.get_length() )\n",
        "pila.push(10)\n",
        "print(\"Esta vacia? =\" , pila.is_empty() )\n",
        "print(\"# elementos:\", pila.get_length() )\n",
        "pila.push(20)\n",
        "pila.push(30)\n",
        "pila.push(40)\n",
        "pila.to_string()\n",
        "print( pila.pop() ) #40\n",
        "print( pila.peek()) #30\n",
        "pila.to_string()"
      ],
      "execution_count": 6,
      "outputs": [
        {
          "output_type": "stream",
          "name": "stdout",
          "text": [
            "Esta vacia? = True\n",
            "# elementos: 0\n",
            "Esta vacia? = False\n",
            "# elementos: 1\n",
            " | 40 | \n",
            " | 30 | \n",
            " | 20 | \n",
            " | 10 | \n",
            "40\n",
            "30\n",
            " | 30 | \n",
            " | 20 | \n",
            " | 10 | \n"
          ]
        }
      ]
    },
    {
      "cell_type": "code",
      "metadata": {
        "colab": {
          "base_uri": "https://localhost:8080/"
        },
        "id": "apXFUhiJDIEy",
        "outputId": "84547a6c-fda4-4a19-97f9-3fe3f04766b9"
      },
      "source": [
        "!cat prog.txt"
      ],
      "execution_count": 10,
      "outputs": [
        {
          "output_type": "stream",
          "name": "stdout",
          "text": [
            "#include <stdio.h>\r\n",
            "int main()\r\n",
            "{\r\n",
            "    int num, count, sum = 0;\r\n",
            "    \r\n",
            "    printf(\"Enter a positive integer: \");\r\n",
            "    scanf(\"%d\", &num);\r\n",
            "\r\n",
            "    // for loop terminates when num is less than count\r\n",
            "    for(count = 1; count <= num; ++count)\r\n",
            "    {\r\n",
            "        sum += count;\r\n",
            "    }\r\n",
            "\r\n",
            "    printf(\"Sum = %d\", sum);\r\n",
            "\r\n",
            "    return 0;\r\n",
            "}"
          ]
        }
      ]
    },
    {
      "cell_type": "code",
      "metadata": {
        "colab": {
          "base_uri": "https://localhost:8080/"
        },
        "id": "jhcpUH3ODO97",
        "outputId": "604bc695-f58e-4647-88c7-c1f2459c39b5"
      },
      "source": [
        "entrada = open( 'prog.txt' , 'rt' )\n",
        "codigo = entrada.read()\n",
        "#print(codigo)\n",
        "pilaControl = StackADT()\n",
        "pilaControl.push(\"#\") #caracter de pila vacia\n",
        "\n",
        "for letra in codigo:\n",
        "    #print(f\"-->{ letra }<--\")\n",
        "    if letra == '{': #regla 1\n",
        "        pilaControl.push(\"{\")\n",
        "    elif letra == '}': #regla 2\n",
        "        basura = pilaControl.pop()\n",
        "    else:\n",
        "        pass\n",
        "    \n",
        "# Nota: Este codigo aún no contempla desbalanceo de mas llaves de cierre\n",
        "if pilaControl.peek() == '#':\n",
        "    print(\"El codigo proporcionado está correctamente balanceado\")\n",
        "else:\n",
        "    print(\"El codigo no esta balanceado en llaves { y } \")"
      ],
      "execution_count": 14,
      "outputs": [
        {
          "output_type": "stream",
          "name": "stdout",
          "text": [
            "El codigo proporcionado está correctamente balanceado\n"
          ]
        }
      ]
    }
  ]
}